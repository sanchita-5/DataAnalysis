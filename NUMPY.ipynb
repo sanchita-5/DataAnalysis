{
  "nbformat": 4,
  "nbformat_minor": 0,
  "metadata": {
    "colab": {
      "provenance": [],
      "authorship_tag": "ABX9TyMIsXSF1fot505URliRyjf9",
      "include_colab_link": true
    },
    "kernelspec": {
      "name": "python3",
      "display_name": "Python 3"
    },
    "language_info": {
      "name": "python"
    }
  },
  "cells": [
    {
      "cell_type": "markdown",
      "metadata": {
        "id": "view-in-github",
        "colab_type": "text"
      },
      "source": [
        "<a href=\"https://colab.research.google.com/github/HabibParvej/DataAnalysis_MCA/blob/main/NUMPY.ipynb\" target=\"_parent\"><img src=\"https://colab.research.google.com/assets/colab-badge.svg\" alt=\"Open In Colab\"/></a>"
      ]
    },
    {
      "cell_type": "code",
      "execution_count": null,
      "metadata": {
        "colab": {
          "base_uri": "https://localhost:8080/"
        },
        "id": "Og4w5LnE5ciR",
        "outputId": "2407b56c-5229-482d-f2fe-63b6d0b8cc41"
      },
      "outputs": [
        {
          "output_type": "stream",
          "name": "stdout",
          "text": [
            "Hello\n"
          ]
        }
      ],
      "source": [
        "print(\"Hello\")"
      ]
    },
    {
      "cell_type": "code",
      "source": [
        "import numpy as np"
      ],
      "metadata": {
        "id": "zxByvVPa5j75"
      },
      "execution_count": null,
      "outputs": []
    },
    {
      "cell_type": "code",
      "source": [
        "list_data=[1,2,3,4,5]\n",
        "array_from_list = np.array(list_data)  # Convert List To Array\n",
        "print(\"Array from list:\",array_from_list)"
      ],
      "metadata": {
        "colab": {
          "base_uri": "https://localhost:8080/"
        },
        "id": "cqsJiDMb5wqD",
        "outputId": "f159cdd6-b8df-47fc-b1de-65720b7e8edc"
      },
      "execution_count": null,
      "outputs": [
        {
          "output_type": "stream",
          "name": "stdout",
          "text": [
            "Array from list: [1 2 3 4 5]\n"
          ]
        }
      ]
    },
    {
      "cell_type": "code",
      "source": [
        "# Creating 1D Array\n",
        "array_1d = np.array([10,20,30])\n",
        "print(\"1D Array\",array_1d)"
      ],
      "metadata": {
        "colab": {
          "base_uri": "https://localhost:8080/"
        },
        "id": "odk3-V2A6EaX",
        "outputId": "0ace34c2-74d9-476f-b1a7-de5dcd77a2cb"
      },
      "execution_count": null,
      "outputs": [
        {
          "output_type": "stream",
          "name": "stdout",
          "text": [
            "1D Array [10 20 30]\n"
          ]
        }
      ]
    },
    {
      "cell_type": "code",
      "source": [
        "# Creating 2D Array(matrix like)\n",
        "array_2D = ([[1,2,3],[4,5,6]])  #2 rows 3 columns\n",
        "print(\"2D Array:\\n\",array_2D)\n"
      ],
      "metadata": {
        "colab": {
          "base_uri": "https://localhost:8080/"
        },
        "id": "JHh1Krpf6Wea",
        "outputId": "a46ac64c-3891-4ca5-acc9-c877f222e5c5"
      },
      "execution_count": null,
      "outputs": [
        {
          "output_type": "stream",
          "name": "stdout",
          "text": [
            "2D Array:\n",
            " [[1, 2, 3], [4, 5, 6]]\n"
          ]
        }
      ]
    },
    {
      "cell_type": "code",
      "source": [
        "# Creating evenly spaced integers with arange (like python range)\n",
        "array_range = np.arange(0,10,2) # from 0 to 8 with step size of 2\n",
        "print(\"Range Array:\",array_range)"
      ],
      "metadata": {
        "colab": {
          "base_uri": "https://localhost:8080/"
        },
        "id": "1SzhgCxR6zii",
        "outputId": "9ca45d6f-a52f-4929-ed5a-ed8d2b5a0817"
      },
      "execution_count": null,
      "outputs": [
        {
          "output_type": "stream",
          "name": "stdout",
          "text": [
            "Range Array: [0 2 4 6 8]\n"
          ]
        }
      ]
    },
    {
      "cell_type": "code",
      "source": [
        "# Create evenly spaced floats using linespace\n",
        "array_linspace = np.linspace(0,1,5) #5 values from 0 to 1\n",
        "print(\"Linspace array\",array_linspace)"
      ],
      "metadata": {
        "colab": {
          "base_uri": "https://localhost:8080/"
        },
        "id": "_ysvX2Bj8BHP",
        "outputId": "4038800f-04a7-4edc-bc2d-16c444d7b4ee"
      },
      "execution_count": null,
      "outputs": [
        {
          "output_type": "stream",
          "name": "stdout",
          "text": [
            "Linspace array [0.   0.25 0.5  0.75 1.  ]\n"
          ]
        }
      ]
    },
    {
      "cell_type": "code",
      "source": [
        "# Create 2 x 3 array of all zeroes\n",
        "zeros_array = np.zeros((2,3))\n",
        "print(\"Zeros Array\",zeros_array)"
      ],
      "metadata": {
        "colab": {
          "base_uri": "https://localhost:8080/"
        },
        "id": "iMScQ8Cm8M-F",
        "outputId": "c47f1958-c96c-4a75-951f-d6d49658b793"
      },
      "execution_count": null,
      "outputs": [
        {
          "output_type": "stream",
          "name": "stdout",
          "text": [
            "Zeros Array [[0. 0. 0.]\n",
            " [0. 0. 0.]]\n"
          ]
        }
      ]
    },
    {
      "cell_type": "code",
      "source": [
        "# Create 3x2 Array of all ones\n",
        "ones_array = np.ones((3,2))\n",
        "print(\"Array Of Ones:\",ones_array)"
      ],
      "metadata": {
        "colab": {
          "base_uri": "https://localhost:8080/"
        },
        "id": "fjiNLXu58ss2",
        "outputId": "a7d440ac-3d08-4a4b-c004-cf41d1441dd4"
      },
      "execution_count": null,
      "outputs": [
        {
          "output_type": "stream",
          "name": "stdout",
          "text": [
            "Array Of Ones: [[1. 1.]\n",
            " [1. 1.]\n",
            " [1. 1.]]\n"
          ]
        }
      ]
    },
    {
      "cell_type": "code",
      "source": [
        "# Create a 2x2 array filled with value 7\n",
        "full_array = np.full((2,2),7)\n",
        "print(\"Full Array\\n\",full_array)"
      ],
      "metadata": {
        "colab": {
          "base_uri": "https://localhost:8080/"
        },
        "id": "oyA57g-e98sC",
        "outputId": "f3defc95-412f-4845-9b4e-8bc152ba1bb4"
      },
      "execution_count": null,
      "outputs": [
        {
          "output_type": "stream",
          "name": "stdout",
          "text": [
            "Full Array\n",
            " [[7 7]\n",
            " [7 7]]\n"
          ]
        }
      ]
    },
    {
      "cell_type": "code",
      "source": [
        "# Define a 2D array\n",
        "sample_array = np.array([[1,2,3],[4,5,6]])\n",
        "print(\"Sample Array:\",sample_array)\n",
        "\n",
        "# Shape:  tuple of rows (rows,columns)\n",
        "print(\"Shape:\",sample_array.shape)\n",
        "\n",
        "#ndim: number of dimensions (axes.1D,2D,3D)\n",
        "print(\"Number of Dimession\",sample_array.ndim)\n",
        "\n",
        "#dtype:\n",
        "print(\"DataType:\",sample_array.dtype)\n",
        "\n",
        "#size:\n",
        "print(\"Total Elements:\",sample_array.size)\n",
        "\n"
      ],
      "metadata": {
        "colab": {
          "base_uri": "https://localhost:8080/"
        },
        "id": "tnR1dnMT-ad7",
        "outputId": "c6898b57-9db4-4e03-a92a-7622d9f3f3d6"
      },
      "execution_count": null,
      "outputs": [
        {
          "output_type": "stream",
          "name": "stdout",
          "text": [
            "Sample Array: [[1 2 3]\n",
            " [4 5 6]]\n",
            "Shape: (2, 3)\n",
            "Number of Dimession 2\n",
            "DataType: int64\n",
            "Total Elements: 6\n"
          ]
        }
      ]
    },
    {
      "cell_type": "code",
      "source": [
        "# Each row represents a product, each column represents sales in months Jan to Mar\n",
        "sales_data = np.array([[1, 2, 3],\n",
        "                       [4, 5, 6],\n",
        "                       [7, 8, 9]])\n",
        "\n",
        "print(\"Data\", sales_data)\n"
      ],
      "metadata": {
        "colab": {
          "base_uri": "https://localhost:8080/"
        },
        "id": "RDUW1ae6_au2",
        "outputId": "801147e7-b9b4-4d52-b7be-64b98597fa78"
      },
      "execution_count": null,
      "outputs": [
        {
          "output_type": "stream",
          "name": "stdout",
          "text": [
            "Data [[1 2 3]\n",
            " [4 5 6]\n",
            " [7 8 9]]\n"
          ]
        }
      ]
    },
    {
      "cell_type": "code",
      "source": [
        "# Element at row 0, column 1 (Product A in Feb)\n",
        "print(\"Element at [0,1]:\", sales_data[0, 1])\n",
        "\n",
        "# Entire first row (Product A)\n",
        "print(\"First row:\", sales_data[0])\n",
        "\n",
        "# Last column (March for all products)\n",
        "print(\"Last column:\", sales_data[:, -1])\n",
        "\n",
        "# Subarray: First 2 rows and first 2 columns\n",
        "print(\"Block (first 2 rows, first 2 columns):\\n\", sales_data[:2, :2])\n",
        "\n",
        "# Reverse the order of rows (Products C, B, A)\n",
        "print(\"Reversed Rows:\\n\", sales_data[::-1])\n",
        "\n",
        "# Every other column (Jan and Mar)\n",
        "print(\"Every other column:\\n\", sales_data[:, ::-1])"
      ],
      "metadata": {
        "colab": {
          "base_uri": "https://localhost:8080/"
        },
        "id": "bNQKBzNMCHYY",
        "outputId": "8a2f4277-8b9d-4b0f-fff1-e840116d0fdd"
      },
      "execution_count": null,
      "outputs": [
        {
          "output_type": "stream",
          "name": "stdout",
          "text": [
            "Element at [0,1]: 2\n",
            "First row: [1 2 3]\n",
            "Last column: [3 6 9]\n",
            "Block (first 2 rows, first 2 columns):\n",
            " [[1 2]\n",
            " [4 5]]\n",
            "Reversed Rows:\n",
            " [[7 8 9]\n",
            " [4 5 6]\n",
            " [1 2 3]]\n",
            "Every other column:\n",
            " [[3 2 1]\n",
            " [6 5 4]\n",
            " [9 8 7]]\n"
          ]
        }
      ]
    },
    {
      "cell_type": "code",
      "source": [
        "print(\"Every other column:\\n\", sales_data[-1: -3: -1])"
      ],
      "metadata": {
        "colab": {
          "base_uri": "https://localhost:8080/"
        },
        "id": "n_4hkHjnDXG_",
        "outputId": "7b3b7834-1473-44de-e29d-fc2a7ad1e659"
      },
      "execution_count": null,
      "outputs": [
        {
          "output_type": "stream",
          "name": "stdout",
          "text": [
            "Every other column:\n",
            " [[7 8 9]\n",
            " [4 5 6]]\n"
          ]
        }
      ]
    },
    {
      "cell_type": "code",
      "source": [
        "print(\"Every other column:\\n\", sales_data[-1: -3])"
      ],
      "metadata": {
        "colab": {
          "base_uri": "https://localhost:8080/"
        },
        "id": "IBpCIkbsG0-o",
        "outputId": "42f3c69d-e7e5-421c-ba01-e1ab852ae502"
      },
      "execution_count": null,
      "outputs": [
        {
          "output_type": "stream",
          "name": "stdout",
          "text": [
            "Every other column:\n",
            " []\n"
          ]
        }
      ]
    },
    {
      "cell_type": "code",
      "source": [
        "print(\"Last Row:\\n\", sales_data[-1])"
      ],
      "metadata": {
        "colab": {
          "base_uri": "https://localhost:8080/"
        },
        "id": "Li3zjGkCHCtD",
        "outputId": "d6c52039-ce0e-48a1-a1c5-4b1e05c1c807"
      },
      "execution_count": null,
      "outputs": [
        {
          "output_type": "stream",
          "name": "stdout",
          "text": [
            "Last Row:\n",
            " [7 8 9]\n"
          ]
        }
      ]
    },
    {
      "cell_type": "code",
      "source": [
        "print(\"2nd last row:\\n\", sales_data[-2])"
      ],
      "metadata": {
        "colab": {
          "base_uri": "https://localhost:8080/"
        },
        "id": "znxKr3SYISVm",
        "outputId": "0ac4f9ef-78c3-4a24-d84d-6ac450e311ad"
      },
      "execution_count": null,
      "outputs": [
        {
          "output_type": "stream",
          "name": "stdout",
          "text": [
            "2nd last row:\n",
            " [4 5 6]\n"
          ]
        }
      ]
    },
    {
      "cell_type": "code",
      "source": [
        "Time_series = np.array([[1, 2, 3,4],\n",
        "                       [5, 6, 7, 8],\n",
        "                       [9, 10, 11, 12]])\n",
        "\n",
        "print(\"Data:\\n\", Time_series)"
      ],
      "metadata": {
        "colab": {
          "base_uri": "https://localhost:8080/"
        },
        "id": "IXMUHRE6IftQ",
        "outputId": "3c5801b8-2da6-4346-9a18-563e13151555"
      },
      "execution_count": null,
      "outputs": [
        {
          "output_type": "stream",
          "name": "stdout",
          "text": [
            "Data:\n",
            " [[ 1  2  3  4]\n",
            " [ 5  6  7  8]\n",
            " [ 9 10 11 12]]\n"
          ]
        }
      ]
    },
    {
      "cell_type": "code",
      "source": [
        "# First Column\n",
        "print(\"2nd last row:\\n\", Time_series[:,0])"
      ],
      "metadata": {
        "colab": {
          "base_uri": "https://localhost:8080/"
        },
        "id": "cqjLORLeJ34T",
        "outputId": "e9f7d0df-669e-47b1-bf57-a50b880e3cc5"
      },
      "execution_count": null,
      "outputs": [
        {
          "output_type": "stream",
          "name": "stdout",
          "text": [
            "2nd last row:\n",
            " [1 5 9]\n"
          ]
        }
      ]
    },
    {
      "cell_type": "code",
      "source": [
        "# Last Two Columns\n",
        "print(\"2nd last row:\\n\", Time_series[:,2:])"
      ],
      "metadata": {
        "colab": {
          "base_uri": "https://localhost:8080/"
        },
        "id": "J2-roVH6J-Os",
        "outputId": "693bc2f3-ba7f-4653-d058-78136ab4c481"
      },
      "execution_count": null,
      "outputs": [
        {
          "output_type": "stream",
          "name": "stdout",
          "text": [
            "2nd last row:\n",
            " [[ 3  4]\n",
            " [ 7  8]\n",
            " [11 12]]\n"
          ]
        }
      ]
    },
    {
      "cell_type": "code",
      "source": [
        "# Time Series\n",
        "time_series = np.arange(1, 13).reshape(3, 4)\n",
        "print(\"Time Series Data:\\n\", time_series)\n"
      ],
      "metadata": {
        "colab": {
          "base_uri": "https://localhost:8080/"
        },
        "id": "ns--Xfs-KWqg",
        "outputId": "4ed9799f-c866-463b-8472-08bcdd7aaa9a"
      },
      "execution_count": null,
      "outputs": [
        {
          "output_type": "stream",
          "name": "stdout",
          "text": [
            "Time Series Data:\n",
            " [[ 1  2  3  4]\n",
            " [ 5  6  7  8]\n",
            " [ 9 10 11 12]]\n"
          ]
        }
      ]
    },
    {
      "cell_type": "code",
      "source": [
        "# Numerical And Conditional & Coditional Logic\n",
        "\n",
        "# Define two simple arrays of the same shape\n",
        "arr1 = np.array([10, 20, 30, 40])\n",
        "arr2 = np.array([1, 2, 3, 4])\n",
        "\n",
        "# Perform basic arithmetic operations\n",
        "print(\"Addition:\", arr1 + arr2)           # [11 22 33 44]\n",
        "print(\"Subtraction:\", arr1 - arr2)        # [ 9 18 27 36]\n",
        "print(\"Multiplication:\", arr1 * arr2)     # [ 10  40  90 160]\n",
        "print(\"Division:\", arr1 / arr2)           # [10. 10. 10. 10.]\n",
        "\n",
        "# Array and scalar operation\n",
        "print(\"Add 100 to arr1:\", arr1 + 100)     # [110 120 130 140]"
      ],
      "metadata": {
        "colab": {
          "base_uri": "https://localhost:8080/"
        },
        "id": "M_ZjqUU1KYqX",
        "outputId": "4ced2aa5-53eb-4ab2-a4e9-30b84973eb45"
      },
      "execution_count": null,
      "outputs": [
        {
          "output_type": "stream",
          "name": "stdout",
          "text": [
            "Addition: [11 22 33 44]\n",
            "Subtraction: [ 9 18 27 36]\n",
            "Multiplication: [ 10  40  90 160]\n",
            "Division: [10. 10. 10. 10.]\n",
            "Add 100 to arr1: [110 120 130 140]\n"
          ]
        }
      ]
    },
    {
      "cell_type": "code",
      "source": [
        "# 2D_array example\n",
        "matrix = np.array([\n",
        "    [5, 10, 15],\n",
        "    [20, 25, 30]\n",
        "])\n",
        "\n",
        "# Full-array aggregations\n",
        "print(\"Total Sum:\", np.sum(matrix))\n",
        "print(\"Mean Value:\", np.mean(matrix))\n",
        "print(\"Standard Deviation:\", np.std(matrix))\n",
        "\n",
        "# Axis-wise aggregations\n",
        "print(\"Sum by column (axis=0):\", np.sum(matrix, axis=0))\n",
        "print(\"Sum by row (axis=1):\", np.sum(matrix, axis=1))\n",
        "print(\"Mean by row (axis=1):\", np.mean(matrix, axis=1))"
      ],
      "metadata": {
        "colab": {
          "base_uri": "https://localhost:8080/"
        },
        "id": "_o2vaZZpQevl",
        "outputId": "300bfe1c-6e60-4a84-9437-15ced9cc343e"
      },
      "execution_count": null,
      "outputs": [
        {
          "output_type": "stream",
          "name": "stdout",
          "text": [
            "Total Sum: 105\n",
            "Mean Value: 17.5\n",
            "Standard Deviation: 8.539125638299666\n",
            "Sum by column (axis=0): [25 35 45]\n",
            "Sum by row (axis=1): [30 75]\n",
            "Mean by row (axis=1): [10. 25.]\n"
          ]
        }
      ]
    },
    {
      "cell_type": "code",
      "source": [
        "scores = np.array([60, 75, 85, 90, 45])\n",
        "\n",
        "# Create a boolean mask for scores >= 70\n",
        "pass_mask = scores >= 70\n",
        "print(\"Pass mask:\", pass_mask)\n",
        "\n",
        "# Filter values using the mask\n",
        "print(\"Passing scores:\", scores[pass_mask])\n",
        "\n",
        "# Combine conditions: select scores between 70 and 90 (inclusive)\n",
        "print(\"Scores between 70 and 90:\", scores[(scores >= 70) & (scores <= 90)])"
      ],
      "metadata": {
        "colab": {
          "base_uri": "https://localhost:8080/"
        },
        "id": "4AjwCpbGSG7C",
        "outputId": "1d5883ed-c0bb-4bb2-e148-0e2e65f7814e"
      },
      "execution_count": null,
      "outputs": [
        {
          "output_type": "stream",
          "name": "stdout",
          "text": [
            "Pass mask: [False  True  True  True False]\n",
            "Passing scores: [75 85 90]\n",
            "Scores between 70 and 90: [75 85 90]\n"
          ]
        }
      ]
    },
    {
      "cell_type": "code",
      "source": [
        "# Use np.where to assign labels\n",
        "labels = np.where(scores >= 70, \"Pass\", \"Fail\")\n",
        "print(\"Labels for scores:\", labels)"
      ],
      "metadata": {
        "colab": {
          "base_uri": "https://localhost:8080/"
        },
        "id": "Bf7L6DUNUA8O",
        "outputId": "7b5f4248-6a9f-4ebd-d330-5bbd8be7afca"
      },
      "execution_count": null,
      "outputs": [
        {
          "output_type": "stream",
          "name": "stdout",
          "text": [
            "Labels for scores: ['Fail' 'Pass' 'Pass' 'Pass' 'Fail']\n"
          ]
        }
      ]
    },
    {
      "cell_type": "code",
      "source": [
        "# Create an array with NaN values\n",
        "data_with_nan = np.array([3.0, np.nan, 7.0, np.nan, 5.0])\n",
        "\n",
        "# Detect NaN positions\n",
        "print(\"NaN mask:\", np.isnan(data_with_nan))\n",
        "\n",
        "# Aggregate safely while ignoring NaNs\n",
        "print(\"Mean ignoring NaNs:\", np.nanmean(data_with_nan))\n",
        "\n",
        "# Replace NaNs with 0\n",
        "filled_data = np.nan_to_num(data_with_nan, nan=5.0)\n",
        "print(\"Replaced NaNs with 0:\", filled_data)"
      ],
      "metadata": {
        "colab": {
          "base_uri": "https://localhost:8080/"
        },
        "id": "nAzvR1mnVuWM",
        "outputId": "6a2417c8-bb0d-4764-eef0-b44bb1778920"
      },
      "execution_count": null,
      "outputs": [
        {
          "output_type": "stream",
          "name": "stdout",
          "text": [
            "NaN mask: [False  True False  True False]\n",
            "Mean ignoring NaNs: 5.0\n",
            "Replaced NaNs with 0: [3. 5. 7. 5. 5.]\n"
          ]
        }
      ]
    },
    {
      "cell_type": "code",
      "source": [
        "# Create a 1D array of 12 elements\n",
        "arr = np.arange(12)\n",
        "print(\"Original array:\", arr)\n",
        "\n",
        "# Reshape into 3x4 (3 rows, 4 columns)\n",
        "reshaped = arr.reshape(3, 4)\n",
        "print(\"Reshaped (3x4):\\n\", reshaped)\n",
        "\n",
        "# Flatten using ravel (view) and flatten (copy)\n",
        "raveled = reshaped.ravel()\n",
        "flattened = reshaped.flatten()\n",
        "\n",
        "print(\"Raveled (1D view):\", raveled)\n",
        "print(\"Flattened (1D copy):\", flattened)"
      ],
      "metadata": {
        "colab": {
          "base_uri": "https://localhost:8080/"
        },
        "id": "Vtpahq2aW3k1",
        "outputId": "e06fd929-0af0-40d7-b1aa-459f5e160f0d"
      },
      "execution_count": null,
      "outputs": [
        {
          "output_type": "stream",
          "name": "stdout",
          "text": [
            "Original array: [ 0  1  2  3  4  5  6  7  8  9 10 11]\n",
            "Reshaped (3x4):\n",
            " [[ 0  1  2  3]\n",
            " [ 4  5  6  7]\n",
            " [ 8  9 10 11]]\n",
            "Raveled (1D view): [ 0  1  2  3  4  5  6  7  8  9 10 11]\n",
            "Flattened (1D copy): [ 0  1  2  3  4  5  6  7  8  9 10 11]\n"
          ]
        }
      ]
    },
    {
      "cell_type": "code",
      "source": [
        "print(id(raveled),id(flattened))"
      ],
      "metadata": {
        "colab": {
          "base_uri": "https://localhost:8080/"
        },
        "id": "plqkKYMAaChV",
        "outputId": "e5d54cc9-193a-442d-a6e3-8f685fd8ed99"
      },
      "execution_count": null,
      "outputs": [
        {
          "output_type": "stream",
          "name": "stdout",
          "text": [
            "134601734110448 134601734108720\n"
          ]
        }
      ]
    },
    {
      "cell_type": "code",
      "source": [
        "transpose = matrix.T\n",
        "print(\"Transpose MAtrix is :\",transpose)"
      ],
      "metadata": {
        "colab": {
          "base_uri": "https://localhost:8080/"
        },
        "id": "5UFIRNl1baGb",
        "outputId": "9495a8fb-5059-421c-80f4-2a905a93d822"
      },
      "execution_count": null,
      "outputs": [
        {
          "output_type": "stream",
          "name": "stdout",
          "text": [
            "Transpose MAtrix is : [[ 5 20]\n",
            " [10 25]\n",
            " [15 30]]\n"
          ]
        }
      ]
    },
    {
      "cell_type": "code",
      "source": [
        "temps_transposed = matrix.T\n",
        "print(\"\\nTransposed (rows = times of day, cols = months):\\n\", temps_transposed)\n",
        "\n",
        "# Convert one row  to a column\n",
        "row = matrix[0]\n",
        "col = matrix.reshape(-1, 1)\n",
        "print(\"\\row to col :\\n\", col)\n",
        "\n",
        "# Convert back to row\n",
        "month1_row_again = matrix.reshape(1, -1)\n",
        "print(\"\\nrow again:\\n\", month1_row_again)"
      ],
      "metadata": {
        "colab": {
          "base_uri": "https://localhost:8080/"
        },
        "id": "rCBgSRXacrW2",
        "outputId": "b210afc9-30c8-41c9-ed0e-a79b48294fa5"
      },
      "execution_count": null,
      "outputs": [
        {
          "output_type": "stream",
          "name": "stdout",
          "text": [
            "\n",
            "Transposed (rows = times of day, cols = months):\n",
            " [[ 5 20]\n",
            " [10 25]\n",
            " [15 30]]\n",
            "\row to col :\n",
            " [[ 5]\n",
            " [10]\n",
            " [15]\n",
            " [20]\n",
            " [25]\n",
            " [30]]\n",
            "\n",
            "row again:\n",
            " [[ 5 10 15 20 25 30]]\n"
          ]
        }
      ]
    },
    {
      "cell_type": "code",
      "source": [
        "a = np.array([[1, 2], [3, 4]])\n",
        "b = np.array([[5, 6], [7, 8]])\n",
        "\n",
        "# Horizontal stack (along columns)\n",
        "h_stack = np.hstack((a, b))\n",
        "print(\"Horizontal Stack:\\n\", h_stack)\n",
        "\n",
        "# Vertical stack (along rows)\n",
        "v_stack = np.vstack((a, b))\n",
        "print(\"Vertical Stack:\\n\", v_stack)\n",
        "\n",
        "# Generic concatenate: axis=0 (rows), axis=1 (columns)\n",
        "concat_axis0 = np.concatenate((a, b), axis=0)\n",
        "concat_axis1 = np.concatenate((a, b), axis=1)\n",
        "print(\"Concatenate axis=0:\\n\", concat_axis0)\n",
        "print(\"Concatenate axis=1:\\n\", concat_axis1)"
      ],
      "metadata": {
        "colab": {
          "base_uri": "https://localhost:8080/"
        },
        "id": "CmrbWzIXdeBF",
        "outputId": "359922d2-6e4a-4e39-a9d8-a9dce3d5cc5d"
      },
      "execution_count": null,
      "outputs": [
        {
          "output_type": "stream",
          "name": "stdout",
          "text": [
            "Horizontal Stack:\n",
            " [[1 2 5 6]\n",
            " [3 4 7 8]]\n",
            "Vertical Stack:\n",
            " [[1 2]\n",
            " [3 4]\n",
            " [5 6]\n",
            " [7 8]]\n",
            "Concatenate axis=0:\n",
            " [[1 2]\n",
            " [3 4]\n",
            " [5 6]\n",
            " [7 8]]\n",
            "Concatenate axis=1:\n",
            " [[1 2 5 6]\n",
            " [3 4 7 8]]\n"
          ]
        }
      ]
    },
    {
      "cell_type": "code",
      "source": [
        "# Create a 2D array\n",
        "arr = np.arange(16).reshape(4, 4)\n",
        "print(\"Original Array:\\n\", arr)\n",
        "\n",
        "# Split vertically into two 2x4 arrays\n",
        "split_vert = np.vsplit(arr, 2)\n",
        "print(\"Vertical Split (2x4 each):\")\n",
        "for s in split_vert:\n",
        "    print(s)\n",
        "\n",
        "# Split horizontally into two 4x2 arrays\n",
        "split_horiz = np.hsplit(arr, 2)\n",
        "print(\"Horizontal Split (4x2 each):\")\n",
        "for s in split_horiz:\n",
        "    print(s)"
      ],
      "metadata": {
        "colab": {
          "base_uri": "https://localhost:8080/"
        },
        "id": "zqLVveDOd2zf",
        "outputId": "4e334e66-c8b0-45ae-d5ef-dee0ca70c0a9"
      },
      "execution_count": null,
      "outputs": [
        {
          "output_type": "stream",
          "name": "stdout",
          "text": [
            "Original Array:\n",
            " [[ 0  1  2  3]\n",
            " [ 4  5  6  7]\n",
            " [ 8  9 10 11]\n",
            " [12 13 14 15]]\n",
            "Vertical Split (2x4 each):\n",
            "[[0 1 2 3]\n",
            " [4 5 6 7]]\n",
            "[[ 8  9 10 11]\n",
            " [12 13 14 15]]\n",
            "Horizontal Split (4x2 each):\n",
            "[[ 0  1]\n",
            " [ 4  5]\n",
            " [ 8  9]\n",
            " [12 13]]\n",
            "[[ 2  3]\n",
            " [ 6  7]\n",
            " [10 11]\n",
            " [14 15]]\n"
          ]
        }
      ]
    },
    {
      "cell_type": "code",
      "source": [
        "arr = np.array([\n",
        "    [100, 101, 102],\n",
        "    [110, 111, 112],\n",
        "    [120, 121, 122],\n",
        "    [130, 131, 132]\n",
        "])\n",
        "\n",
        "# Select rows 0, 2 and 3\n",
        "selected_rows = arr[[0, 2, 3]]\n",
        "print(\"Selected rows 0, 2, 3:\\n\", selected_rows)\n",
        "\n",
        "# Reorder columns\n",
        "reordered_cols = arr[:, [2, 0, 1]]\n",
        "print(\"Reordered columns (2, 0, 1):\\n\", reordered_cols)"
      ],
      "metadata": {
        "colab": {
          "base_uri": "https://localhost:8080/"
        },
        "id": "XMtOSkUGhWo_",
        "outputId": "e6ee27ee-99d5-4be1-d31d-24d871aff2ec"
      },
      "execution_count": null,
      "outputs": [
        {
          "output_type": "stream",
          "name": "stdout",
          "text": [
            "Selected rows 0, 2, 3:\n",
            " [[100 101 102]\n",
            " [120 121 122]\n",
            " [130 131 132]]\n",
            "Reordered columns (2, 0, 1):\n",
            " [[102 100 101]\n",
            " [112 110 111]\n",
            " [122 120 121]\n",
            " [132 130 131]]\n"
          ]
        }
      ]
    },
    {
      "cell_type": "code",
      "source": [
        "data = np.array([45, 12, 89, 33])\n",
        "\n",
        "# Sorted values\n",
        "sorted_data = np.sort(data)\n",
        "print(\"Sorted Data:\", sorted_data)\n",
        "\n",
        "# Indices that would sort the array\n",
        "sort_order = np.argsort(data)\n",
        "print(\"Sort Order Indices:\", sort_order)\n",
        "\n",
        "# Use sort_order to reorder the array manually\n",
        "print(\"Data sorted using indices:\", data[sort_order])"
      ],
      "metadata": {
        "colab": {
          "base_uri": "https://localhost:8080/"
        },
        "id": "szi4tHxDjUwc",
        "outputId": "e75d5179-4707-4e37-e86d-54473516cc63"
      },
      "execution_count": null,
      "outputs": [
        {
          "output_type": "stream",
          "name": "stdout",
          "text": [
            "Sorted Data: [12 33 45 89]\n",
            "Sort Order Indices: [1 3 0 2]\n",
            "Data sorted using indices: [12 33 45 89]\n"
          ]
        }
      ]
    },
    {
      "cell_type": "code",
      "source": [
        "import numpy as np\n",
        "\n",
        "# Simulated sales data (rows = products, columns = months)\n",
        "sales = np.array([\n",
        "    [200, 220, 250, 300], # Product A\n",
        "    [150, 160, 170, 190], # Product B\n",
        "    [300, 330, 360, 390]  # Product C\n",
        "])\n",
        "\n",
        "# Row-wise sum (total sales per product)\n",
        "row_sum = np.sum(sales, axis=1)\n",
        "print(\"Total sales per product:\", row_sum)\n",
        "\n",
        "# Column-wise mean (average sales in each month)\n",
        "col_mean = np.mean(sales, axis=0)\n",
        "print(\"Average monthly sales:\", col_mean)\n",
        "# Percent change across months\n",
        "# (current - previous) / previous\n",
        "pct_change = (sales[:, 1:] - sales[:, :-1]) / sales[:, :-1]\n",
        "print(\"Percent change:\\n\", pct_change)"
      ],
      "metadata": {
        "id": "oYgQpvL8lT67",
        "colab": {
          "base_uri": "https://localhost:8080/"
        },
        "outputId": "9115091a-1abe-4acf-94ff-8f560027d8b2"
      },
      "execution_count": 1,
      "outputs": [
        {
          "output_type": "stream",
          "name": "stdout",
          "text": [
            "Total sales per product: [ 970  670 1380]\n",
            "Average monthly sales: [216.66666667 236.66666667 260.         293.33333333]\n",
            "Percent change:\n",
            " [[0.1        0.13636364 0.2       ]\n",
            " [0.06666667 0.0625     0.11764706]\n",
            " [0.1        0.09090909 0.08333333]]\n"
          ]
        }
      ]
    },
    {
      "cell_type": "code",
      "source": [
        "print(sales[:, :-1])"
      ],
      "metadata": {
        "colab": {
          "base_uri": "https://localhost:8080/"
        },
        "id": "Iw6rE6NGi51r",
        "outputId": "8ad1048c-38c5-4452-ebcc-1b3cdb960b0b"
      },
      "execution_count": 2,
      "outputs": [
        {
          "output_type": "stream",
          "name": "stdout",
          "text": [
            "[[200 220 250]\n",
            " [150 160 170]\n",
            " [300 330 360]]\n"
          ]
        }
      ]
    },
    {
      "cell_type": "code",
      "source": [
        "print(sales[:, 1:])"
      ],
      "metadata": {
        "colab": {
          "base_uri": "https://localhost:8080/"
        },
        "id": "VSSWhhkYi7tk",
        "outputId": "b79edc8e-05f3-482b-bd3b-098daeff3ed6"
      },
      "execution_count": 3,
      "outputs": [
        {
          "output_type": "stream",
          "name": "stdout",
          "text": [
            "[[220 250 300]\n",
            " [160 170 190]\n",
            " [330 360 390]]\n"
          ]
        }
      ]
    },
    {
      "cell_type": "code",
      "source": [
        "# Set seed for reproducibility\n",
        "np.random.seed(42)\n",
        "\n",
        "# Random integers\n",
        "random_ints = np.random.randint(1, 100, size=(3, 4))\n",
        "print(\"Random integers:\\n\", random_ints)\n",
        "\n",
        "# Normally distributed values (mean=0, std=1)\n",
        "normal_samples = np.random.normal(loc=0, scale=1, size=5)\n",
        "print(\"Normal samples:\", normal_samples)\n",
        "\n",
        "# Random choice from list\n",
        "options = ['A', 'B', 'C']\n",
        "choice_sample = np.random.choice(options, size=5, replace=True)\n",
        "print(\"Random choice sample:\", choice_sample)"
      ],
      "metadata": {
        "colab": {
          "base_uri": "https://localhost:8080/"
        },
        "id": "jh7UCdqXi9lU",
        "outputId": "d2528536-994d-49d6-8f2c-ffa820fe215d"
      },
      "execution_count": 4,
      "outputs": [
        {
          "output_type": "stream",
          "name": "stdout",
          "text": [
            "Random integers:\n",
            " [[52 93 15 72]\n",
            " [61 21 83 87]\n",
            " [75 75 88 24]]\n",
            "Normal samples: [-0.4826188   0.16416482  0.23309524  0.11799461  1.46237812]\n",
            "Random choice sample: ['A' 'A' 'A' 'C' 'C']\n"
          ]
        }
      ]
    },
    {
      "cell_type": "code",
      "source": [],
      "metadata": {
        "id": "7-a3ILsmi-9s"
      },
      "execution_count": null,
      "outputs": []
    }
  ]
}